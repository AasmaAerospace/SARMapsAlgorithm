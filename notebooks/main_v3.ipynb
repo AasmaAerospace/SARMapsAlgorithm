{
 "cells": [
  {
   "cell_type": "code",
   "execution_count": 1,
   "id": "3497681b-976b-4dff-b619-793bb3df5526",
   "metadata": {},
   "outputs": [
    {
     "data": {
      "text/html": [
       "<h3>Bhuvan Map Viewer v3</h3>"
      ],
      "text/plain": [
       "<IPython.core.display.HTML object>"
      ]
     },
     "metadata": {},
     "output_type": "display_data"
    },
    {
     "data": {
      "application/vnd.jupyter.widget-view+json": {
       "model_id": "652fd5bc81da43f1ab12e2e9c1274905",
       "version_major": 2,
       "version_minor": 0
      },
      "text/plain": [
       "HBox(children=(Text(value='', description='Search:'), Button(description='Go', style=ButtonStyle()), Dropdown(…"
      ]
     },
     "metadata": {},
     "output_type": "display_data"
    },
    {
     "data": {
      "application/vnd.jupyter.widget-view+json": {
       "model_id": "7d831095f25349669b3c54593959d30d",
       "version_major": 2,
       "version_minor": 0
      },
      "text/plain": [
       "VBox(children=(Dropdown(description='Base layer:', index=1, options=('OpenStreetMap', 'ESRI Satellite', 'ESRI …"
      ]
     },
     "metadata": {},
     "output_type": "display_data"
    },
    {
     "data": {
      "application/vnd.jupyter.widget-view+json": {
       "model_id": "cb4329b6f87c451da6d385f6ec802ce8",
       "version_major": 2,
       "version_minor": 0
      },
      "text/plain": [
       "Map(center=[20.5937, 78.9629], controls=(ZoomControl(options=['position', 'zoom_in_text', 'zoom_in_title', 'zo…"
      ]
     },
     "metadata": {},
     "output_type": "display_data"
    },
    {
     "data": {
      "application/vnd.jupyter.widget-view+json": {
       "model_id": "f7d0b751efb643ab9eccd7fdc9908e04",
       "version_major": 2,
       "version_minor": 0
      },
      "text/plain": [
       "VBox(children=(Output(), Output()))"
      ]
     },
     "metadata": {},
     "output_type": "display_data"
    }
   ],
   "source": [
    "# Import the new v3 modules\n",
    "import sys, os\n",
    "sys.path.insert(0, os.path.abspath('..'))\n",
    "\n",
    "from src.map_viewer_v3 import MapViewer\n",
    "from src.geocode_v3 import geocode_place  # Keep using existing geocode\n",
    "from src.area_calc_v3 import compute_area  # Keep using existing area calc\n",
    "from src.config_v3 import (BHUVAN_LAYERS, DEFAULT_CENTER, DEFAULT_ZOOM, \n",
    "                          EXTERNAL_BASEMAPS, DEFAULT_BASE_LAYER, DEFAULT_OVERLAYS)\n",
    "\n",
    "# UI components\n",
    "import ipywidgets as widgets\n",
    "from IPython.display import display, clear_output, HTML\n",
    "\n",
    "# ---- Initialize map viewer ----\n",
    "mv = MapViewer(center=DEFAULT_CENTER, zoom=DEFAULT_ZOOM)\n",
    "m = mv.get_map()\n",
    "\n",
    "# ---- Active layer tracking ----\n",
    "active_base = DEFAULT_BASE_LAYER\n",
    "active_overlays = set(DEFAULT_OVERLAYS)  # Use a set for easier management\n",
    "\n",
    "# ---- Create UI components ----\n",
    "\n",
    "# 1. Base layer selector (dropdown)\n",
    "base_selector = widgets.Dropdown(\n",
    "    options=[k for k, v in BHUVAN_LAYERS.items() if not v.get('overlay', False)],\n",
    "    value=active_base,\n",
    "    description='Base layer:'\n",
    ")\n",
    "\n",
    "# 2. Overlay selectors (checkboxes in an accordion)\n",
    "overlay_checkboxes = {}\n",
    "\n",
    "for layer_name, layer_info in BHUVAN_LAYERS.items():\n",
    "    if layer_info.get('overlay', False):\n",
    "        checkbox = widgets.Checkbox(\n",
    "            value=layer_name in active_overlays,\n",
    "            description=layer_name,\n",
    "            disabled=False\n",
    "        )\n",
    "        overlay_checkboxes[layer_name] = checkbox\n",
    "\n",
    "overlay_accordion = widgets.Accordion(\n",
    "    children=[widgets.VBox([overlay_checkboxes[k] for k in overlay_checkboxes])],\n",
    "    selected_index=None\n",
    ")\n",
    "overlay_accordion.set_title(0, 'Overlays')\n",
    "\n",
    "# 3. Place search\n",
    "search_box = widgets.Text(description='Search:')\n",
    "search_btn = widgets.Button(description='Go')\n",
    "\n",
    "# 4. Unit selector for area calculations\n",
    "unit_selector = widgets.Dropdown(\n",
    "    options=[('km²', 'km2'), ('ha', 'ha'), ('m²', 'm2')],\n",
    "    value='km2',\n",
    "    description='Units:'\n",
    ")\n",
    "\n",
    "# 5. Status output for messages and area results\n",
    "status_out = widgets.Output()\n",
    "area_out = widgets.Output()\n",
    "\n",
    "# ---- Event handlers ----\n",
    "\n",
    "# Base layer change handler\n",
    "def on_base_change(change):\n",
    "    global active_base\n",
    "    if change['name'] == 'value':\n",
    "        new_base = change['new']\n",
    "        active_base = new_base\n",
    "        with status_out:\n",
    "            clear_output()\n",
    "            print(f\"Loading base layer: {new_base}...\")\n",
    "        update_map_layers()\n",
    "\n",
    "base_selector.observe(on_base_change, names='value')\n",
    "\n",
    "# Overlay checkbox handlers\n",
    "def create_overlay_handler(layer_name):\n",
    "    def handler(change):\n",
    "        if change['name'] == 'value':\n",
    "            is_active = change['new']\n",
    "            with status_out:\n",
    "                if is_active:\n",
    "                    active_overlays.add(layer_name)\n",
    "                    clear_output()\n",
    "                    print(f\"Adding overlay: {layer_name}\")\n",
    "                else:\n",
    "                    active_overlays.discard(layer_name)\n",
    "                    clear_output()\n",
    "                    print(f\"Removing overlay: {layer_name}\")\n",
    "            update_map_layers()\n",
    "    return handler\n",
    "\n",
    "for layer_name, checkbox in overlay_checkboxes.items():\n",
    "    checkbox.observe(create_overlay_handler(layer_name), names='value')\n",
    "\n",
    "# Function to update all map layers based on current selections\n",
    "def update_map_layers():\n",
    "    # Clear existing layers\n",
    "    mv.clear_all_layers()\n",
    "    \n",
    "    # Add the selected base layer\n",
    "    base_layer_info = BHUVAN_LAYERS[active_base]\n",
    "    \n",
    "    if base_layer_info['type'] == 'wms':\n",
    "        # Use the layer-specific URL if provided\n",
    "        custom_url = base_layer_info.get('url', None)\n",
    "        with status_out:\n",
    "            print(f\"Trying to load WMS layer: {base_layer_info['name']} from {custom_url or 'default URL'}...\")\n",
    "        result = mv.add_wms_layer(base_layer_info['name'], is_base=True, wms_url=custom_url)\n",
    "        if result is None:\n",
    "            # If WMS failed, fall back to a reliable tile layer\n",
    "            with status_out:\n",
    "                print(f\"WMS layer failed to load. Falling back to ESRI Satellite...\")\n",
    "            mv.add_external_tile_layer(\"ESRI Satellite\")\n",
    "    elif base_layer_info['type'] == 'external_tile':\n",
    "        with status_out:\n",
    "            print(f\"Loading external tile layer: {active_base}...\")\n",
    "        mv.add_external_tile_layer(active_base)\n",
    "    else:  # Default tile layer\n",
    "        with status_out:\n",
    "            print(f\"Loading OSM tile layer...\")\n",
    "        mv.add_tile_layer()\n",
    "    \n",
    "    # Add all active overlays\n",
    "    for overlay_name in active_overlays:\n",
    "        overlay_info = BHUVAN_LAYERS[overlay_name]\n",
    "        if overlay_info['type'] == 'wms':\n",
    "            custom_url = overlay_info.get('url', None)\n",
    "            with status_out:\n",
    "                print(f\"Adding overlay: {overlay_name}...\")\n",
    "            result = mv.add_wms_layer(overlay_info['name'], is_base=False, \n",
    "                                    layer_id=overlay_name, wms_url=custom_url)\n",
    "            if result is None:\n",
    "                with status_out:\n",
    "                    print(f\"Failed to add overlay: {overlay_name}\")\n",
    "\n",
    "# Search handler\n",
    "def on_search(b):\n",
    "    with area_out:\n",
    "        clear_output()\n",
    "        with status_out:\n",
    "            clear_output()\n",
    "            print(f\"Searching for: {search_box.value}...\")\n",
    "        try:\n",
    "            lat, lon = geocode_place(search_box.value)\n",
    "            m.center = (lat, lon)\n",
    "            m.zoom = 12\n",
    "            with status_out:\n",
    "                clear_output()\n",
    "                print(f\"Found location: {search_box.value} ({lat}, {lon})\")\n",
    "        except Exception as e:\n",
    "            with status_out:\n",
    "                clear_output()\n",
    "                print(f\"Geocoding error: {e}\")\n",
    "\n",
    "search_btn.on_click(on_search)\n",
    "\n",
    "# Draw handler for area calculation\n",
    "def handle_draw(target, action, geo_json):\n",
    "    # Extract coordinates from the first ring\n",
    "    coords = geo_json['geometry']['coordinates'][0]\n",
    "    area = compute_area(coords, unit_selector.value)\n",
    "    with area_out:\n",
    "        clear_output()\n",
    "        print(f\"Area: {area:.3f} {unit_selector.label}\")\n",
    "\n",
    "mv.on_draw(handle_draw)\n",
    "\n",
    "# ---- Layout and display ----\n",
    "controls_top = widgets.HBox([search_box, search_btn, unit_selector])\n",
    "controls_layers = widgets.VBox([base_selector, overlay_accordion])\n",
    "outputs = widgets.VBox([status_out, area_out])\n",
    "\n",
    "# Display the UI\n",
    "display(HTML(\"<h3>Bhuvan Map Viewer v3</h3>\"))\n",
    "display(controls_top)\n",
    "display(controls_layers)\n",
    "display(m)\n",
    "display(outputs)\n",
    "\n",
    "# Initialize with default base layer\n",
    "with status_out:\n",
    "    print(f\"Initializing map with {active_base}...\")\n",
    "update_map_layers()"
   ]
  },
  {
   "cell_type": "code",
   "execution_count": null,
   "id": "1ac1951c-60fa-42ab-8c1e-0cb59855ea5d",
   "metadata": {},
   "outputs": [],
   "source": []
  },
  {
   "cell_type": "code",
   "execution_count": null,
   "id": "fe6823b8-3150-4796-86a8-5b3cddf32cd4",
   "metadata": {},
   "outputs": [],
   "source": []
  }
 ],
 "metadata": {
  "kernelspec": {
   "display_name": "Python 3 (ipykernel)",
   "language": "python",
   "name": "python3"
  },
  "language_info": {
   "codemirror_mode": {
    "name": "ipython",
    "version": 3
   },
   "file_extension": ".py",
   "mimetype": "text/x-python",
   "name": "python",
   "nbconvert_exporter": "python",
   "pygments_lexer": "ipython3",
   "version": "3.11.2"
  }
 },
 "nbformat": 4,
 "nbformat_minor": 5
}
