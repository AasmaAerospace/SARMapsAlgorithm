{
 "cells": [
  {
   "cell_type": "code",
   "execution_count": 1,
   "id": "83c09210-3801-4ae5-b9f8-0903f17d50cf",
   "metadata": {},
   "outputs": [],
   "source": [
    "import sys, os\n",
    "# if your notebook lives in notebooks/, and src/ is one level up:\n",
    "sys.path.insert(0, os.path.abspath('..'))\n",
    "\n",
    "# core modules\n",
    "from src.map_viewer_v2 import MapViewer\n",
    "from src.geocode_v2    import geocode_place\n",
    "from src.area_calc_v2  import compute_area\n",
    "from src.config_v2     import BHUVAN_LAYERS\n",
    "\n",
    "# UI\n",
    "import ipywidgets as widgets\n",
    "from IPython.display import display, clear_output\n"
   ]
  },
  {
   "cell_type": "code",
   "execution_count": 2,
   "id": "5c5b562c-5ca3-4e52-b387-3dc0b859b91d",
   "metadata": {},
   "outputs": [],
   "source": [
    "# create the viewer & grab the leaflet Map\n",
    "mv = MapViewer()\n",
    "m  = mv.get_map()\n",
    "\n",
    "# for printing area / errors\n",
    "out = widgets.Output()\n"
   ]
  },
  {
   "cell_type": "code",
   "execution_count": 3,
   "id": "9334bcda-9149-4e66-9325-2f4b86512830",
   "metadata": {},
   "outputs": [
    {
     "data": {
      "application/vnd.jupyter.widget-view+json": {
       "model_id": "ac29896367b0425c95b371908a27aeff",
       "version_major": 2,
       "version_minor": 0
      },
      "text/plain": [
       "Dropdown(description='Basemap:', options=('Basemap', 'Satellite', 'Terrain (Elevation)', 'Geomorphology', 'LUL…"
      ]
     },
     "metadata": {},
     "output_type": "display_data"
    }
   ],
   "source": [
    "layer_selector = widgets.Dropdown(\n",
    "    options=list(BHUVAN_LAYERS.keys()),\n",
    "    value=list(BHUVAN_LAYERS.keys())[0],\n",
    "    description='Basemap:'\n",
    ")\n",
    "\n",
    "def _on_layer_change(change):\n",
    "    if change['name'] == 'value':\n",
    "        mv.add_wms_layer(BHUVAN_LAYERS[change['new']])\n",
    "\n",
    "layer_selector.observe(_on_layer_change, names='value')\n",
    "\n",
    "display(layer_selector)\n"
   ]
  },
  {
   "cell_type": "code",
   "execution_count": 4,
   "id": "81d6d6b4-9bf0-4673-88bf-a1f6369eb012",
   "metadata": {},
   "outputs": [
    {
     "data": {
      "application/vnd.jupyter.widget-view+json": {
       "model_id": "feab85ce89d949179ccd51e930b10bba",
       "version_major": 2,
       "version_minor": 0
      },
      "text/plain": [
       "HBox(children=(Text(value='', description='Search:'), Button(description='Go', style=ButtonStyle()), Dropdown(…"
      ]
     },
     "metadata": {},
     "output_type": "display_data"
    }
   ],
   "source": [
    "# Units dropdown\n",
    "unit_selector = widgets.Dropdown(\n",
    "    options=[('km²','km2'), ('ha','ha'), ('m²','m2')],\n",
    "    value='km2',\n",
    "    description='Units:'\n",
    ")\n",
    "\n",
    "# Place search\n",
    "search_box = widgets.Text(description='Search:')\n",
    "search_btn = widgets.Button(description='Go')\n",
    "\n",
    "def on_search(b):\n",
    "    with out:\n",
    "        clear_output()\n",
    "        try:\n",
    "            lat, lon = geocode_place(search_box.value)\n",
    "            m.center = (lat, lon)\n",
    "            m.zoom   = 12\n",
    "        except Exception as e:\n",
    "            print(f\"Geocoding error: {e}\")\n",
    "\n",
    "search_btn.on_click(on_search)\n",
    "\n",
    "# layout and show\n",
    "controls = widgets.HBox([search_box, search_btn, unit_selector])\n",
    "display(controls)\n"
   ]
  },
  {
   "cell_type": "code",
   "execution_count": 5,
   "id": "60177233-70bf-4833-935b-1f1673e3db4b",
   "metadata": {},
   "outputs": [],
   "source": [
    "def handle_draw(target, action, geo_json):\n",
    "    # first ring of coords\n",
    "    coords = geo_json['geometry']['coordinates'][0]\n",
    "    area   = compute_area(coords, unit_selector.value)\n",
    "    with out:\n",
    "        clear_output()\n",
    "        print(f\"Area: {area:.3f} {unit_selector.label}\")\n",
    "\n",
    "mv.on_draw(handle_draw)\n"
   ]
  },
  {
   "cell_type": "code",
   "execution_count": 6,
   "id": "96aa0659-d83d-48a4-bb56-634ae6b4086d",
   "metadata": {},
   "outputs": [
    {
     "data": {
      "application/vnd.jupyter.widget-view+json": {
       "model_id": "b64cd5cbec0d4d779853b2142ef16499",
       "version_major": 2,
       "version_minor": 0
      },
      "text/plain": [
       "Map(center=[20.5937, 78.9629], controls=(ZoomControl(options=['position', 'zoom_in_text', 'zoom_in_title', 'zo…"
      ]
     },
     "metadata": {},
     "output_type": "display_data"
    },
    {
     "data": {
      "application/vnd.jupyter.widget-view+json": {
       "model_id": "86cd160d6d5042739fe8be9fc13c0a4d",
       "version_major": 2,
       "version_minor": 0
      },
      "text/plain": [
       "Output()"
      ]
     },
     "metadata": {},
     "output_type": "display_data"
    }
   ],
   "source": [
    "display(m)\n",
    "display(out)\n"
   ]
  },
  {
   "cell_type": "code",
   "execution_count": 7,
   "id": "131f7591-86d3-4ff4-8343-421b9c4402dc",
   "metadata": {},
   "outputs": [],
   "source": [
    "import sys, os\n",
    "# make sure src/ is on path\n",
    "sys.path.insert(0, os.path.abspath('..'))\n",
    "\n",
    "# core functionality\n",
    "from src.map_viewer_v2 import MapViewer\n",
    "from src.geocode_v2       import geocode_place\n",
    "from src.area_calc_v2     import compute_area\n",
    "from src.config_v2        import WMS_URL, WMS_VERSION, BHUVAN_LAYERS, DEFAULT_LAYER\n",
    "\n",
    "# UI\n",
    "import ipywidgets as widgets\n",
    "from IPython.display   import display, clear_output\n"
   ]
  },
  {
   "cell_type": "code",
   "execution_count": 8,
   "id": "264a284b-87a9-4553-8e79-19d4310b3d22",
   "metadata": {},
   "outputs": [
    {
     "data": {
      "application/vnd.jupyter.widget-view+json": {
       "model_id": "cbf4f74f30934f86b2dbe83423f9e276",
       "version_major": 2,
       "version_minor": 0
      },
      "text/plain": [
       "HBox(children=(Text(value='', description='Search:'), Button(description='Go', style=ButtonStyle()), Dropdown(…"
      ]
     },
     "metadata": {},
     "output_type": "display_data"
    },
    {
     "data": {
      "application/vnd.jupyter.widget-view+json": {
       "model_id": "89266b8e1d414dd8abb7688eca10eb2b",
       "version_major": 2,
       "version_minor": 0
      },
      "text/plain": [
       "Map(center=[20.5937, 78.9629], controls=(ZoomControl(options=['position', 'zoom_in_text', 'zoom_in_title', 'zo…"
      ]
     },
     "metadata": {},
     "output_type": "display_data"
    },
    {
     "data": {
      "application/vnd.jupyter.widget-view+json": {
       "model_id": "1f291776898b4ae5bebb49cd41ccccf6",
       "version_major": 2,
       "version_minor": 0
      },
      "text/plain": [
       "Output()"
      ]
     },
     "metadata": {},
     "output_type": "display_data"
    }
   ],
   "source": [
    "# 1) pick a default Bhuvan layer from the dict\n",
    "default_layer = next(iter(BHUVAN_LAYERS.values()))\n",
    "\n",
    "# 2) initialize the MapViewer with that layer\n",
    "mv = MapViewer(layers=default_layer)\n",
    "m  = mv.get_map()\n",
    "\n",
    "# 3) widgets\n",
    "search_box    = widgets.Text(description='Search:')\n",
    "search_btn    = widgets.Button(description='Go')\n",
    "unit_selector = widgets.Dropdown(\n",
    "    options=[('km²','km2'), ('ha','ha'), ('m²','m2')],\n",
    "    value='km2',\n",
    "    description='Units:'\n",
    ")\n",
    "layer_selector = widgets.Dropdown(\n",
    "    # build (label, value) pairs from your dict\n",
    "    options=[(name, layer) for name, layer in BHUVAN_LAYERS.items()],\n",
    "    value=default_layer,\n",
    "    description='Basemap:'\n",
    ")\n",
    "out = widgets.Output()\n",
    "\n",
    "# 4) pan/zoom on search\n",
    "def on_search(b):\n",
    "    with out:\n",
    "        clear_output()\n",
    "        try:\n",
    "            lat, lon = geocode_place(search_box.value)\n",
    "            m.center = (lat, lon)\n",
    "            m.zoom   = 12\n",
    "        except Exception as e:\n",
    "            print(\"Geocoding error:\", e)\n",
    "search_btn.on_click(on_search)\n",
    "\n",
    "# 5) swap WMS layer when dropdown changes\n",
    "def on_layer_change(change):\n",
    "    if change['name']=='value':\n",
    "        mv.add_wms_layer(change['new'])\n",
    "layer_selector.observe(on_layer_change, names='value')\n",
    "\n",
    "# 6) area‐draw handler\n",
    "def handle_draw(target, action, geo_json):\n",
    "    coords = geo_json['geometry']['coordinates'][0]\n",
    "    area   = compute_area(coords, unit_selector.value)\n",
    "    with out:\n",
    "        clear_output()\n",
    "        print(f\"Area: {area:.3f} {unit_selector.label}\")\n",
    "\n",
    "# hook the draw event on the MapViewer’s draw control\n",
    "mv.on_draw(handle_draw)\n",
    "\n",
    "# 7) layout everything\n",
    "controls = widgets.HBox([\n",
    "    search_box, search_btn,\n",
    "    unit_selector, layer_selector\n",
    "])\n",
    "display(controls)\n",
    "display(m)\n",
    "display(out)\n"
   ]
  },
  {
   "cell_type": "code",
   "execution_count": null,
   "id": "226cf81e-1199-4e87-bda7-d9632368c5c1",
   "metadata": {},
   "outputs": [],
   "source": [
    "# ensure src/ is on the path\n",
    "import sys, os\n",
    "sys.path.insert(0, os.path.abspath('..'))\n",
    "\n",
    "# core modules\n",
    "from src.map_viewer_v2 import MapViewer\n",
    "from src.geocode_v2    import geocode_place\n",
    "from src.area_calc_v2  import compute_area\n",
    "from src.config_v2     import BHUVAN_LAYERS, DEFAULT_LAYER\n",
    "\n",
    "# UI\n",
    "import ipywidgets as widgets\n",
    "from IPython.display import display, clear_output\n"
   ]
  },
  {
   "cell_type": "code",
   "execution_count": null,
   "id": "b8bfe550-14cc-430b-a95d-2b4ba921211f",
   "metadata": {},
   "outputs": [],
   "source": [
    "# 1) Output area for messages\n",
    "out = widgets.Output()\n",
    "\n",
    "# 2) Unit selector\n",
    "unit_selector = widgets.Dropdown(\n",
    "    options=[('km²','km2'), ('ha','ha'), ('m²','m2')],\n",
    "    value='km2',\n",
    "    description='Units:'\n",
    ")\n",
    "\n",
    "# 3) Place search box + button\n",
    "search_box = widgets.Text(description='Search:')\n",
    "search_btn = widgets.Button(description='Go')\n",
    "\n",
    "# 4) Layer selector\n",
    "layer_selector = widgets.Dropdown(\n",
    "    options=list(BHUVAN_LAYERS.keys()),\n",
    "    value=DEFAULT_LAYER,\n",
    "    description='Layer:'\n",
    ")\n",
    "\n",
    "# 5) Initialize MapViewer with the default Bhuvan layer\n",
    "mv = MapViewer(layers=BHUVAN_LAYERS[DEFAULT_LAYER])\n",
    "m  = mv.get_map()\n"
   ]
  },
  {
   "cell_type": "code",
   "execution_count": null,
   "id": "40e69a36-487a-41ef-a3c9-8d687cc3107d",
   "metadata": {},
   "outputs": [],
   "source": [
    "# Search handler\n",
    "def on_search(b):\n",
    "    with out:\n",
    "        clear_output()\n",
    "        try:\n",
    "            lat, lon = geocode_place(search_box.value)\n",
    "            m.center = (lat, lon)\n",
    "            m.zoom   = 12\n",
    "        except Exception as e:\n",
    "            print(f\"Geocoding error: {e}\")\n",
    "\n",
    "search_btn.on_click(on_search)\n",
    "\n",
    "# Draw handler\n",
    "def handle_draw(target, action, geo_json):\n",
    "    # pull out the first ring\n",
    "    coords = geo_json['geometry']['coordinates'][0]\n",
    "    area   = compute_area(coords, unit_selector.value)\n",
    "    with out:\n",
    "        clear_output()\n",
    "        print(f\"Area: {area:.3f} {unit_selector.label}\")\n",
    "\n",
    "mv.draw_control.on_draw(handle_draw)\n",
    "\n",
    "# Layer‐change handler\n",
    "def on_layer_change(change):\n",
    "    if change['type']=='change' and change['name']=='value':\n",
    "        new_key = change['new']\n",
    "        mv.add_wms_layer(BHUVAN_LAYERS[new_key])\n",
    "\n",
    "layer_selector.observe(on_layer_change)\n"
   ]
  },
  {
   "cell_type": "code",
   "execution_count": null,
   "id": "cc45d6e4-49a8-475e-b815-9903abcaaedb",
   "metadata": {},
   "outputs": [],
   "source": [
    "controls = widgets.HBox([search_box, search_btn, unit_selector, layer_selector])\n",
    "display(controls)\n",
    "\n",
    "display(m)\n",
    "display(out)"
   ]
  },
  {
   "cell_type": "code",
   "execution_count": 5,
   "id": "edfa7e72-c822-4b02-bb29-24ef422123d2",
   "metadata": {},
   "outputs": [
    {
     "data": {
      "application/vnd.jupyter.widget-view+json": {
       "model_id": "b836d90a93e34927a31f464e69743296",
       "version_major": 2,
       "version_minor": 0
      },
      "text/plain": [
       "Dropdown(description='Map layer:', options=('OpenStreetMap', 'True-Color Satellite', 'Terrain (Hillshade)', 'G…"
      ]
     },
     "metadata": {},
     "output_type": "display_data"
    },
    {
     "data": {
      "application/vnd.jupyter.widget-view+json": {
       "model_id": "d72947db40ad4e60ad0ed3e666cc07f3",
       "version_major": 2,
       "version_minor": 0
      },
      "text/plain": [
       "Map(center=[20.5937, 78.9629], controls=(ZoomControl(options=['position', 'zoom_in_text', 'zoom_in_title', 'zo…"
      ]
     },
     "metadata": {},
     "output_type": "display_data"
    },
    {
     "data": {
      "application/vnd.jupyter.widget-view+json": {
       "model_id": "b12f8cd6e74541708a70d3f71e5400c2",
       "version_major": 2,
       "version_minor": 0
      },
      "text/plain": [
       "HBox(children=(Text(value='', description='Search:'), Button(description='Go', style=ButtonStyle()), Dropdown(…"
      ]
     },
     "metadata": {},
     "output_type": "display_data"
    },
    {
     "data": {
      "application/vnd.jupyter.widget-view+json": {
       "model_id": "1a6a7e50f7674ce287ed6ce4883326ca",
       "version_major": 2,
       "version_minor": 0
      },
      "text/plain": [
       "Output()"
      ]
     },
     "metadata": {},
     "output_type": "display_data"
    }
   ],
   "source": [
    "# Cell 1: imports & config\n",
    "import sys, os\n",
    "sys.path.insert(0, os.path.abspath('..'))  # so src/ is on your path\n",
    "\n",
    "from src.map_viewer_v2 import MapViewer\n",
    "from src.geocode_v2 import geocode_place\n",
    "from src.area_calc_v2 import compute_area\n",
    "\n",
    "# Bhuvan WMS endpoint & version\n",
    "from src.config_v2 import WMS_URL, WMS_VERSION, DEFAULT_CENTER, DEFAULT_ZOOM\n",
    "\n",
    "# Here’s our *complete* layer‐dictionary.\n",
    "# Note: the raster basemaps have to be hand-typed—they aren’t in your txt file.\n",
    "BHUVAN_LAYERS = {\n",
    "    \"OpenStreetMap\":             \"OpenStreetMap\",\n",
    "    \"True-Color Satellite\":      \"bhuvan:TRUECOLOUR_3857\",     # hand-picked WMS name\n",
    "    \"Terrain (Hillshade)\":       \"organization:Elevation\",      # hand-picked WMS name\n",
    "\n",
    "    # a few vector themes from your txt file:\n",
    "    \"Geomorphology (Maharashtra)\": \"geomorphology:MH_GM50K_0506\",   # :contentReference[oaicite:0]{index=0}:contentReference[oaicite:1]{index=1}\n",
    "    \"LULC (Phase-2 UP)\":            \"sisdp_phase2:SISDP_P2_LULC_10K_2016_2019_UP_1\",  # :contentReference[oaicite:2]{index=2}:contentReference[oaicite:3]{index=3}\n",
    "    \"Godavari Rivers\":              \"disaster:godavari_Rivers\",     # :contentReference[oaicite:4]{index=4}:contentReference[oaicite:5]{index=5}\n",
    "    \"City Boundaries\":              \"owp:CITY_admin\"                # :contentReference[oaicite:6]{index=6}:contentReference[oaicite:7]{index=7}\n",
    "}\n",
    "\n",
    "# UI\n",
    "import ipywidgets as widgets\n",
    "from IPython.display import display, clear_output\n",
    "\n",
    "\n",
    "# Cell 2: build the MapViewer & the “layer” toggle\n",
    "mv = MapViewer(center=DEFAULT_CENTER, zoom=DEFAULT_ZOOM, layers=BHUVAN_LAYERS[\"OpenStreetMap\"])\n",
    "m  = mv.get_map()\n",
    "\n",
    "layer_selector = widgets.Dropdown(\n",
    "    options=list(BHUVAN_LAYERS.keys()),\n",
    "    value=\"OpenStreetMap\",\n",
    "    description=\"Map layer:\"\n",
    ")\n",
    "\n",
    "def on_layer_change(change):\n",
    "    if change[\"name\"]==\"value\":\n",
    "        mv.add_wms_layer(BHUVAN_LAYERS[change[\"new\"]])\n",
    "layer_selector.observe(on_layer_change, names=\"value\")\n",
    "\n",
    "display(layer_selector)\n",
    "display(m)\n",
    "\n",
    "# Cell 3: search box + units + draw control\n",
    "out = widgets.Output()\n",
    "\n",
    "# units dropdown\n",
    "unit_selector = widgets.Dropdown(\n",
    "    options=[('km²','km2'), ('ha','ha'), ('m²','m2')],\n",
    "    value='km2',\n",
    "    description='Units:'\n",
    ")\n",
    "\n",
    "# placename search\n",
    "search_box = widgets.Text(description='Search:')\n",
    "search_btn = widgets.Button(description='Go')\n",
    "def on_search(b):\n",
    "    with out:\n",
    "        clear_output()\n",
    "        try:\n",
    "            lat, lon = geocode_place(search_box.value)\n",
    "            m.center = (lat, lon); m.zoom = 12\n",
    "        except Exception as e:\n",
    "            print(f\"Geocoding error: {e}\")\n",
    "search_btn.on_click(on_search)\n",
    "\n",
    "controls = widgets.HBox([search_box, search_btn, unit_selector])\n",
    "display(controls)\n",
    "\n",
    "# draw handler\n",
    "def handle_draw(target, action, geo_json):\n",
    "    coords = geo_json['geometry']['coordinates'][0]\n",
    "    area = compute_area(coords, unit_selector.value)\n",
    "    with out:\n",
    "        clear_output()\n",
    "        print(f\"Area: {area:.3f} {unit_selector.label}\")\n",
    "\n",
    "mv.on_draw(handle_draw)\n",
    "\n",
    "display(out)\n"
   ]
  },
  {
   "cell_type": "code",
   "execution_count": 4,
   "id": "b5569302-0ea7-470e-b2ca-8bd5b8c55dd2",
   "metadata": {},
   "outputs": [
    {
     "name": "stdout",
     "output_type": "stream",
     "text": [
      "Available Bhuvan WMS layers:\n",
      "\n",
      "\n"
     ]
    }
   ],
   "source": [
    "import requests\n",
    "import xml.etree.ElementTree as ET\n",
    "\n",
    "from src.config_v2 import WMS_URL, WMS_VERSION\n",
    "\n",
    "# fetch the capabilities XML\n",
    "resp = requests.get(\n",
    "    WMS_URL,\n",
    "    params={\n",
    "        \"service\": \"WMS\",\n",
    "        \"request\": \"GetCapabilities\",\n",
    "        \"version\": WMS_VERSION\n",
    "    }\n",
    ")\n",
    "root = ET.fromstring(resp.content)\n",
    "\n",
    "# find them all\n",
    "layers = [n.text for n in root.findall(\".//Layer/Name\") if n.text]\n",
    "print(\"Available Bhuvan WMS layers:\\n\")\n",
    "print(\"\\n\".join(layers))\n"
   ]
  },
  {
   "cell_type": "code",
   "execution_count": null,
   "id": "0b8be595-3a5d-4df0-a2e4-0da963d1ae1d",
   "metadata": {},
   "outputs": [],
   "source": []
  }
 ],
 "metadata": {
  "kernelspec": {
   "display_name": "Python 3 (ipykernel)",
   "language": "python",
   "name": "python3"
  },
  "language_info": {
   "codemirror_mode": {
    "name": "ipython",
    "version": 3
   },
   "file_extension": ".py",
   "mimetype": "text/x-python",
   "name": "python",
   "nbconvert_exporter": "python",
   "pygments_lexer": "ipython3",
   "version": "3.11.2"
  }
 },
 "nbformat": 4,
 "nbformat_minor": 5
}
