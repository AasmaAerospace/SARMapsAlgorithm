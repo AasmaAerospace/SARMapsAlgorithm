{
 "cells": [
  {
   "cell_type": "code",
   "execution_count": 1,
   "id": "e90ad8bf-1521-4175-ae92-8890dd8e2dd0",
   "metadata": {},
   "outputs": [
    {
     "data": {
      "application/vnd.jupyter.widget-view+json": {
       "model_id": "22b244f8d5af487db6d6d6729cab7a03",
       "version_major": 2,
       "version_minor": 0
      },
      "text/plain": [
       "HBox(children=(Text(value='', description='Search:'), Button(description='Go', style=ButtonStyle()), Dropdown(…"
      ]
     },
     "metadata": {},
     "output_type": "display_data"
    },
    {
     "data": {
      "application/vnd.jupyter.widget-view+json": {
       "model_id": "af68ddef6b2c4aa9bc985248f9ff2a24",
       "version_major": 2,
       "version_minor": 0
      },
      "text/plain": [
       "Map(center=[20.5937, 78.9629], controls=(ZoomControl(options=['position', 'zoom_in_text', 'zoom_in_title', 'zo…"
      ]
     },
     "metadata": {},
     "output_type": "display_data"
    },
    {
     "data": {
      "application/vnd.jupyter.widget-view+json": {
       "model_id": "b594c4d0e3ce41c695b91821cfc494e1",
       "version_major": 2,
       "version_minor": 0
      },
      "text/plain": [
       "Output()"
      ]
     },
     "metadata": {},
     "output_type": "display_data"
    }
   ],
   "source": [
    "import sys, os\n",
    "# assume notebooks/ is your cwd, so src/ is in the parent folder\n",
    "sys.path.insert(0, os.path.abspath('..'))\n",
    "\n",
    "# Now your modules are importable\n",
    "from src.map_viewer_v1 import MapViewer\n",
    "from src.geocode_v1 import geocode_place\n",
    "from src.area_calc_v1 import compute_area\n",
    "\n",
    "\n",
    "# UI widgets\n",
    "import ipywidgets as widgets\n",
    "from IPython.display import display, clear_output\n",
    "\n",
    "\n",
    "# initialize map\n",
    "mv = MapViewer()\n",
    "m = mv.get_map()\n",
    "\n",
    "# output widget for area / messages\n",
    "out = widgets.Output()\n",
    "\n",
    "\n",
    "# unit dropdown\n",
    "unit_selector = widgets.Dropdown(\n",
    "    options=[('km²','km2'), ('ha','ha'), ('m²','m2')],\n",
    "    value='km2',\n",
    "    description='Units:'\n",
    ")\n",
    "\n",
    "# place search box + button\n",
    "search_box = widgets.Text(description='Search:')\n",
    "search_btn = widgets.Button(description='Go')\n",
    "\n",
    "def on_search(b):\n",
    "    with out:\n",
    "        clear_output()\n",
    "        try:\n",
    "            lat, lon = geocode_place(search_box.value)\n",
    "            m.center = (lat, lon)\n",
    "            m.zoom = 12\n",
    "        except Exception as e:\n",
    "            print(f\"Geocoding error: {e}\")\n",
    "\n",
    "search_btn.on_click(on_search)\n",
    "\n",
    "# layout\n",
    "controls = widgets.HBox([search_box, search_btn, unit_selector])\n",
    "display(controls)\n",
    "\n",
    "\n",
    "def handle_draw(target, action, geo_json):\n",
    "    # extract the first ring of coordinates\n",
    "    coords = geo_json['geometry']['coordinates'][0]\n",
    "    # compute area\n",
    "    area = compute_area(coords, unit_selector.value)\n",
    "    # display\n",
    "    with out:\n",
    "        clear_output()\n",
    "        print(f\"Area: {area:.3f} {unit_selector.label}\")\n",
    "\n",
    "mv.on_draw(handle_draw)\n",
    "\n",
    "\n",
    "display(m)\n",
    "display(out)"
   ]
  },
  {
   "cell_type": "code",
   "execution_count": null,
   "id": "83c09210-3801-4ae5-b9f8-0903f17d50cf",
   "metadata": {},
   "outputs": [],
   "source": []
  }
 ],
 "metadata": {
  "kernelspec": {
   "display_name": "Python 3 (ipykernel)",
   "language": "python",
   "name": "python3"
  },
  "language_info": {
   "codemirror_mode": {
    "name": "ipython",
    "version": 3
   },
   "file_extension": ".py",
   "mimetype": "text/x-python",
   "name": "python",
   "nbconvert_exporter": "python",
   "pygments_lexer": "ipython3",
   "version": "3.11.2"
  }
 },
 "nbformat": 4,
 "nbformat_minor": 5
}
